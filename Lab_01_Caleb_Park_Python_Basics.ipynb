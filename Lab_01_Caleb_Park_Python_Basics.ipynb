{
  "cells": [
    {
      "cell_type": "markdown",
      "metadata": {
        "id": "view-in-github",
        "colab_type": "text"
      },
      "source": [
        "<a href=\"https://colab.research.google.com/github/icecloud-dcp/Python-Programming-Lab/blob/main/Lab_01_Caleb_Park_Python_Basics.ipynb\" target=\"_parent\"><img src=\"https://colab.research.google.com/assets/colab-badge.svg\" alt=\"Open In Colab\"/></a>"
      ]
    },
    {
      "cell_type": "markdown",
      "id": "65c57c93",
      "metadata": {
        "id": "65c57c93"
      },
      "source": [
        "# Lab 01 Python Basics\n",
        "\n",
        "--- \n",
        "| Lab No. :  Lab 01  \n",
        "| Date :   Sept. 5, 2022  \n",
        "| Your Full Name:    \n",
        "---  \n",
        " \n",
        "Use __type()__ and __isinstance()__ function to check declared variable type  \n",
        "$ `conda install nbconvert`  \n",
        "Installing TeX (<a href=\"https://nbconvert.readthedocs.io/en/latest/install.html\" target=\"_blank\"> installing Tex </a> )  \n",
        "And then download MiKTeX form https://miktex.org/download and install in your computer.  \n",
        "Then restart the computer to install dependant packages and update packages (it will take a while so wait til finish)"
      ]
    },
    {
      "cell_type": "code",
      "execution_count": 2,
      "id": "7af5b112",
      "metadata": {
        "id": "7af5b112"
      },
      "outputs": [],
      "source": [
        "var_num = 6\n",
        "var_float=12.57\n",
        "var_str = \"Python Fundamentals\"\n",
        "var_list = [2,3,\"a\",4.5]\n",
        "var_tuple= (2,3,'b', 4,5)"
      ]
    },
    {
      "cell_type": "code",
      "execution_count": 3,
      "id": "f8ceb3b6",
      "metadata": {
        "id": "f8ceb3b6",
        "outputId": "cfd24765-1cde-4e3c-f382-7f8729211c44",
        "colab": {
          "base_uri": "https://localhost:8080/",
          "height": 0
        }
      },
      "outputs": [
        {
          "output_type": "execute_result",
          "data": {
            "text/plain": [
              "int"
            ]
          },
          "metadata": {},
          "execution_count": 3
        }
      ],
      "source": [
        "type(var_num)"
      ]
    },
    {
      "cell_type": "code",
      "execution_count": 4,
      "id": "40ff9564",
      "metadata": {
        "id": "40ff9564",
        "outputId": "26970d46-2f73-4f3d-bbea-ea7fdda3cb9f",
        "colab": {
          "base_uri": "https://localhost:8080/",
          "height": 0
        }
      },
      "outputs": [
        {
          "output_type": "execute_result",
          "data": {
            "text/plain": [
              "float"
            ]
          },
          "metadata": {},
          "execution_count": 4
        }
      ],
      "source": [
        "type(var_float)\n"
      ]
    },
    {
      "cell_type": "code",
      "execution_count": 5,
      "id": "71571723",
      "metadata": {
        "id": "71571723",
        "outputId": "5207fc0b-1742-40b6-c938-6fff695b00b5",
        "colab": {
          "base_uri": "https://localhost:8080/",
          "height": 0
        }
      },
      "outputs": [
        {
          "output_type": "execute_result",
          "data": {
            "text/plain": [
              "str"
            ]
          },
          "metadata": {},
          "execution_count": 5
        }
      ],
      "source": [
        "type(var_str)"
      ]
    },
    {
      "cell_type": "code",
      "execution_count": 6,
      "id": "ded18c99",
      "metadata": {
        "id": "ded18c99",
        "outputId": "0923f456-ee06-4012-f455-d08f2cce1fed",
        "colab": {
          "base_uri": "https://localhost:8080/",
          "height": 0
        }
      },
      "outputs": [
        {
          "output_type": "stream",
          "name": "stdout",
          "text": [
            "<class 'list'>\n"
          ]
        }
      ],
      "source": [
        "print(type(var_list))"
      ]
    },
    {
      "cell_type": "code",
      "execution_count": 7,
      "id": "04a83b28",
      "metadata": {
        "id": "04a83b28",
        "outputId": "767f3c41-5e95-4cbc-d14e-d048cd234107",
        "colab": {
          "base_uri": "https://localhost:8080/",
          "height": 0
        }
      },
      "outputs": [
        {
          "output_type": "stream",
          "name": "stdout",
          "text": [
            "<class 'tuple'>\n"
          ]
        }
      ],
      "source": [
        "print(type(var_tuple))"
      ]
    },
    {
      "cell_type": "markdown",
      "source": [
        "## shell command"
      ],
      "metadata": {
        "id": "Z_SbKxN6BmTj"
      },
      "id": "Z_SbKxN6BmTj"
    },
    {
      "cell_type": "code",
      "source": [
        "!python --version"
      ],
      "metadata": {
        "colab": {
          "base_uri": "https://localhost:8080/",
          "height": 0
        },
        "id": "t4LUFRJnBr8C",
        "outputId": "cfe2fd2c-bfb0-4cdf-d795-a1cfc8dc8405"
      },
      "id": "t4LUFRJnBr8C",
      "execution_count": 1,
      "outputs": [
        {
          "output_type": "stream",
          "name": "stdout",
          "text": [
            "Python 3.7.13\n"
          ]
        }
      ]
    },
    {
      "cell_type": "markdown",
      "id": "ab8ee222",
      "metadata": {
        "id": "ab8ee222"
      },
      "source": [
        "## complex number\n",
        "Use import __cmath__ for _complex number_ operation"
      ]
    },
    {
      "cell_type": "code",
      "execution_count": 8,
      "id": "5bab7ddf",
      "metadata": {
        "id": "5bab7ddf",
        "outputId": "8234bb8d-6f5b-451c-8ddb-ab13d4c92c7b",
        "colab": {
          "base_uri": "https://localhost:8080/",
          "height": 0
        }
      },
      "outputs": [
        {
          "output_type": "stream",
          "name": "stdout",
          "text": [
            "(-0.7373937155412454-0j)\n",
            "(5-3j)\n"
          ]
        },
        {
          "output_type": "execute_result",
          "data": {
            "text/plain": [
              "complex"
            ]
          },
          "metadata": {},
          "execution_count": 8
        }
      ],
      "source": [
        "import cmath\n",
        "x,y,w=5,-3, 9\n",
        "t =cmath.cos(2.4)\n",
        "print(t)\n",
        "z=complex(x,y)\n",
        "print(z)\n",
        "type(z)"
      ]
    },
    {
      "cell_type": "markdown",
      "source": [
        "## Functions and Methods\n"
      ],
      "metadata": {
        "id": "Mfnv-K7VDl7I"
      },
      "id": "Mfnv-K7VDl7I"
    },
    {
      "cell_type": "code",
      "source": [
        "#method\n",
        "message=\"Python language is fun to learn.\"\n",
        "print('is index number :{} '.format(message.find('is')))\n",
        "#function\n",
        "help(min)"
      ],
      "metadata": {
        "colab": {
          "base_uri": "https://localhost:8080/",
          "height": 0
        },
        "id": "PwY0ag6-DtHy",
        "outputId": "573c99e9-1280-4cf8-c911-d93ebab58bd4"
      },
      "id": "PwY0ag6-DtHy",
      "execution_count": 15,
      "outputs": [
        {
          "output_type": "stream",
          "name": "stdout",
          "text": [
            "is index number :16 \n",
            "Help on built-in function min in module builtins:\n",
            "\n",
            "min(...)\n",
            "    min(iterable, *[, default=obj, key=func]) -> value\n",
            "    min(arg1, arg2, *args, *[, key=func]) -> value\n",
            "    \n",
            "    With a single iterable argument, return its smallest item. The\n",
            "    default keyword-only argument specifies an object to return if\n",
            "    the provided iterable is empty.\n",
            "    With two or more arguments, return the smallest argument.\n",
            "\n"
          ]
        }
      ]
    },
    {
      "cell_type": "code",
      "source": [
        "max?"
      ],
      "metadata": {
        "id": "WV4RuSkhFT2F"
      },
      "id": "WV4RuSkhFT2F",
      "execution_count": 16,
      "outputs": []
    },
    {
      "cell_type": "markdown",
      "source": [
        "## function definition"
      ],
      "metadata": {
        "id": "ghua8fkVFdX-"
      },
      "id": "ghua8fkVFdX-"
    },
    {
      "cell_type": "code",
      "source": [
        "def power2ton(n):\n",
        "    \"\"\" 2^n\"\"\"\n",
        "    return 2**n\n",
        "print(power2ton(3))"
      ],
      "metadata": {
        "colab": {
          "base_uri": "https://localhost:8080/",
          "height": 0
        },
        "id": "AxugupGoKj_h",
        "outputId": "e99756aa-ab42-48b8-efd4-ea572496d4a2"
      },
      "id": "AxugupGoKj_h",
      "execution_count": 28,
      "outputs": [
        {
          "output_type": "stream",
          "name": "stdout",
          "text": [
            "8\n"
          ]
        }
      ]
    },
    {
      "cell_type": "markdown",
      "source": [
        "## Conditionals"
      ],
      "metadata": {
        "id": "uWTQbpcOK8Y_"
      },
      "id": "uWTQbpcOK8Y_"
    },
    {
      "cell_type": "code",
      "source": [
        "a=True\n",
        "if a == True:\n",
        "    print(\"true\")\n",
        "else:\n",
        "    print('false')"
      ],
      "metadata": {
        "colab": {
          "base_uri": "https://localhost:8080/",
          "height": 0
        },
        "id": "09mdg7AaLFvV",
        "outputId": "940956fd-49f7-4b26-a2ba-992d4009b499"
      },
      "id": "09mdg7AaLFvV",
      "execution_count": 29,
      "outputs": [
        {
          "output_type": "stream",
          "name": "stdout",
          "text": [
            "true\n"
          ]
        }
      ]
    },
    {
      "cell_type": "markdown",
      "source": [
        "## Looping"
      ],
      "metadata": {
        "id": "ysX4p4_mLBgz"
      },
      "id": "ysX4p4_mLBgz"
    },
    {
      "cell_type": "code",
      "source": [
        "my_list=[]\n",
        "for n in range(1,15,2):\n",
        "    if n % 3 ==1:\n",
        "        my_list.append(n)\n",
        "my_list\n"
      ],
      "metadata": {
        "colab": {
          "base_uri": "https://localhost:8080/",
          "height": 0
        },
        "id": "bFT3DOGwLaav",
        "outputId": "b7479995-c1a8-483c-d88f-921fc70d1f1b"
      },
      "id": "bFT3DOGwLaav",
      "execution_count": 30,
      "outputs": [
        {
          "output_type": "execute_result",
          "data": {
            "text/plain": [
              "[1, 7, 13]"
            ]
          },
          "metadata": {},
          "execution_count": 30
        }
      ]
    },
    {
      "cell_type": "markdown",
      "id": "dfc85f80",
      "metadata": {
        "id": "dfc85f80"
      },
      "source": [
        "## isinstance() function"
      ]
    },
    {
      "cell_type": "code",
      "execution_count": null,
      "id": "9d262e81",
      "metadata": {
        "id": "9d262e81",
        "outputId": "ef2102ea-0d39-4ab5-a817-6da47b730de2"
      },
      "outputs": [
        {
          "data": {
            "text/plain": [
              "True"
            ]
          },
          "execution_count": 13,
          "metadata": {},
          "output_type": "execute_result"
        }
      ],
      "source": [
        "isinstance(var_num,(int,float))"
      ]
    },
    {
      "cell_type": "code",
      "execution_count": null,
      "id": "68fb7b97",
      "metadata": {
        "id": "68fb7b97",
        "outputId": "0da8eade-79f6-4ae4-fd4f-4c5a140bb3a3"
      },
      "outputs": [
        {
          "data": {
            "text/plain": [
              "True"
            ]
          },
          "execution_count": 12,
          "metadata": {},
          "output_type": "execute_result"
        }
      ],
      "source": [
        "isinstance(var_str, str)"
      ]
    },
    {
      "cell_type": "code",
      "execution_count": null,
      "id": "9abfa5c6",
      "metadata": {
        "id": "9abfa5c6",
        "outputId": "ac88f36d-0065-42df-cc24-f560af823389"
      },
      "outputs": [
        {
          "data": {
            "text/plain": [
              "False"
            ]
          },
          "execution_count": 9,
          "metadata": {},
          "output_type": "execute_result"
        }
      ],
      "source": [
        "isinstance(var_float, (int, complex))"
      ]
    },
    {
      "cell_type": "markdown",
      "id": "c1d1f4b0",
      "metadata": {
        "id": "c1d1f4b0"
      },
      "source": [
        "## Let's understand input/output function in Python"
      ]
    },
    {
      "cell_type": "code",
      "execution_count": null,
      "id": "ff4878fd",
      "metadata": {
        "id": "ff4878fd",
        "outputId": "9d777dd2-c47f-4278-89df-79448759508f"
      },
      "outputs": [
        {
          "name": "stdout",
          "output_type": "stream",
          "text": [
            "please give an anyvalue : Manas\n",
            "Manas\n"
          ]
        },
        {
          "data": {
            "text/plain": [
              "str"
            ]
          },
          "execution_count": 15,
          "metadata": {},
          "output_type": "execute_result"
        }
      ],
      "source": [
        "anyvalue = input(\"please give an anyvalue : \")\n",
        "print(anyvalue)\n",
        "type(anyvalue)"
      ]
    },
    {
      "cell_type": "markdown",
      "source": [
        "## Understanding In and Out objects"
      ],
      "metadata": {
        "id": "VuM3X1tGF8qj"
      },
      "id": "VuM3X1tGF8qj"
    },
    {
      "cell_type": "code",
      "execution_count": 20,
      "id": "2ce7da38",
      "metadata": {
        "id": "2ce7da38",
        "colab": {
          "base_uri": "https://localhost:8080/",
          "height": 0
        },
        "outputId": "2d34e28e-c5c7-41b0-90b8-ca47b2b0c2d3"
      },
      "outputs": [
        {
          "output_type": "execute_result",
          "data": {
            "text/plain": [
              "['',\n",
              " \"get_ipython().system('python --version')\",\n",
              " 'var_num = 6\\nvar_float=12.57\\nvar_str = \"Python Fundamentals\"\\nvar_list = [2,3,\"a\",4.5]\\nvar_tuple= (2,3,\\'b\\', 4,5)',\n",
              " 'type(var_num)',\n",
              " 'type(var_float)',\n",
              " 'type(var_str)',\n",
              " 'print(type(var_list))',\n",
              " 'print(type(var_tuple))',\n",
              " 'import cmath\\nx,y,w=5,-3, 9\\nt =cmath.cos(2.4)\\nprint(t)\\nz=complex(x,y)\\nprint(z)\\ntype(z)',\n",
              " '#method\\n\"abc alphabets\".find(\\'a\\')',\n",
              " '#method\\n\"abc alphabets\".find(\\'abc\\')',\n",
              " '#method\\nmessage=\"Python language is fun to learn.\"\\nmessage.find(\\'is\\')',\n",
              " '#method\\nmessage=\"Python language is fun to learn.\"\\nprint(\\'is index number :{} \\'.format(message.find(\\'is\\'))',\n",
              " '#method\\nmessage=\"Python language is fun to learn.\"\\nprint(\\'is index number :{} \\'.format(message.find(\\'is\\')))',\n",
              " '#method\\nmessage=\"Python language is fun to learn.\"\\nprint(\\'is index number :{} \\'.format(message.find(\\'is\\')))\\n#function\\nhelp(min)',\n",
              " '#method\\nmessage=\"Python language is fun to learn.\"\\nprint(\\'is index number :{} \\'.format(message.find(\\'is\\')))\\n#function\\nhelp(min)\\nget_ipython().run_line_magic(\\'pinfo\\', \\'min\\')',\n",
              " \"get_ipython().run_line_magic('pinfo', 'max')\",\n",
              " 'in',\n",
              " 'In',\n",
              " 'Out[2]',\n",
              " 'In']"
            ]
          },
          "metadata": {},
          "execution_count": 20
        }
      ],
      "source": [
        "In"
      ]
    },
    {
      "cell_type": "code",
      "source": [
        "Out[8]"
      ],
      "metadata": {
        "colab": {
          "base_uri": "https://localhost:8080/",
          "height": 0
        },
        "id": "_PuAHTa8GSrS",
        "outputId": "6bd241f0-5f2e-4569-d10e-873ab685296a"
      },
      "id": "_PuAHTa8GSrS",
      "execution_count": 27,
      "outputs": [
        {
          "output_type": "execute_result",
          "data": {
            "text/plain": [
              "complex"
            ]
          },
          "metadata": {},
          "execution_count": 27
        }
      ]
    }
  ],
  "metadata": {
    "kernelspec": {
      "display_name": "Python 3",
      "language": "python",
      "name": "python3"
    },
    "language_info": {
      "codemirror_mode": {
        "name": "ipython",
        "version": 3
      },
      "file_extension": ".py",
      "mimetype": "text/x-python",
      "name": "python",
      "nbconvert_exporter": "python",
      "pygments_lexer": "ipython3",
      "version": "3.8.8"
    },
    "colab": {
      "provenance": [],
      "toc_visible": true,
      "include_colab_link": true
    }
  },
  "nbformat": 4,
  "nbformat_minor": 5
}