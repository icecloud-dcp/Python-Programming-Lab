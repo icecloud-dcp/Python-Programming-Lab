{
  "cells": [
    {
      "cell_type": "markdown",
      "id": "0c349a3b",
      "metadata": {
        "id": "0c349a3b"
      },
      "source": [
        "# Lab 07 Assignment Class and Object Oriented Programming\n",
        "---  \n",
        "| Lab No. :  \n",
        "| Date :  \n",
        "| Your Full Name:   \n",
        "---\n",
        "\n",
        "`Class Handle`\n",
        "    \n",
        "> Bank Class Creation  \n",
        "> Using Class Objects for transaction\n",
        "    \n",
        "\n",
        "\n",
        "    "
      ]
    },
    {
      "cell_type": "markdown",
      "id": "a2547ab6",
      "metadata": {
        "id": "a2547ab6"
      },
      "source": [
        "## A Class to handle deposits and withrawals from bank\n",
        "> Create Bank Class  \n",
        "> `__init__(self)`  --> The __init__ method is roughly what represents a constructor in Python. The `self` parameter refers to the instance of the object.  \n",
        "> def deposit(self, account, amount)  \n",
        "> def withraw(self, account, amount)  "
      ]
    },
    {
      "cell_type": "code",
      "execution_count": 1,
      "id": "8673cf6d",
      "metadata": {
        "id": "8673cf6d"
      },
      "outputs": [],
      "source": [
        "class Bank:\n",
        "    \"\"\" This is a bank class for bank related transaction\n",
        "        Usage: b = Bank(name, amount)  \n",
        "        name: account name\n",
        "        amount: balance\n",
        "         \"\"\"\n",
        "    #to initialize account name and balance instance variables\n",
        "    def __init__(self, account_name='Chingyz', balance=0.0):\n",
        "        self.account_name = account_name\n",
        "        self.balance = balance\n",
        "    \n",
        "    # to add deposit amount to existing balance\n",
        "    def deposit(self, amount):\n",
        "        self.balance += amount\n",
        "        return self.balance\n",
        "    \n",
        "    # to withraw amount to existing balance\n",
        "    def withdraw(self, amount):\n",
        "        if amount > self.balance:\n",
        "            print(\"Low balance, can't withraw the given amount\")\n",
        "        else:\n",
        "            self.balance -= amount\n",
        "        return self.balance\n"
      ]
    },
    {
      "cell_type": "markdown",
      "id": "0d4210b3",
      "metadata": {
        "id": "0d4210b3"
      },
      "source": [
        "### Using the Bank Class\n",
        ">Create an account with the given account name and default balance 0.0"
      ]
    },
    {
      "cell_type": "code",
      "execution_count": 2,
      "id": "9c90166e",
      "metadata": {
        "colab": {
          "base_uri": "https://localhost:8080/"
        },
        "id": "9c90166e",
        "outputId": "5e743e64-424d-4b7f-f20c-bac56fead2d8"
      },
      "outputs": [
        {
          "name": "stdout",
          "output_type": "stream",
          "text": [
            "Enter your account name: Caleb\n"
          ]
        }
      ],
      "source": [
        "account_name = input(\"Enter your account name: \")\n",
        "b = Bank(account_name) #Bank()"
      ]
    },
    {
      "cell_type": "markdown",
      "id": "0bc08a6c",
      "metadata": {
        "id": "0bc08a6c"
      },
      "source": [
        "## Bank Transaction  \n",
        ">repeat continuouly till choice 'e' or 'E' is selected.\n",
        ">bank transaction for deposit and withdraw\n"
      ]
    },
    {
      "cell_type": "code",
      "execution_count": 3,
      "id": "9a67c011",
      "metadata": {
        "colab": {
          "base_uri": "https://localhost:8080/"
        },
        "id": "9a67c011",
        "outputId": "b4d2e072-66fc-411a-9b05-f0c4602c245b"
      },
      "outputs": [
        {
          "output_type": "stream",
          "name": "stdout",
          "text": [
            "d for Deposit, w for Widthraw, e for Exit\n",
            "Your selection is d\n",
            "d\n",
            "Enter amount to deposit/withdraw: 1000\n",
            "Caleb - Balance after deposit: 1000.0\n",
            "d for Deposit, w for Widthraw, e for Exit\n",
            "Your selection is w\n",
            "w\n",
            "Enter amount to deposit/withdraw: 500\n",
            "Caleb - Balance after withrawal: 500.0\n",
            "d for Deposit, w for Widthraw, e for Exit\n",
            "Your selection is e\n",
            "e\n"
          ]
        }
      ],
      "source": [
        "while True:\n",
        "    print('d for Deposit, w for Widthraw, e for Exit')\n",
        "    choice = input(\"Your selection is \")\n",
        "    choice = choice.lower()\n",
        "    print(choice)\n",
        "\n",
        "    if choice == 'e':\n",
        "        break\n",
        "        \n",
        "    #amount for deposit or withraw    \n",
        "    amount = float(input(\"Enter amount to deposit/withdraw: \"))\n",
        "    \n",
        "    #bank transaction carries on\n",
        "    if choice == 'd':\n",
        "        print(f\"{account_name} - Balance after deposit: { b.deposit(amount)}\")\n",
        "    elif choice == 'w':\n",
        "        print(\"{0} - Balance after withrawal: {1}\".format(account_name, b.withdraw(amount)\n",
        "                                                         ) )"
      ]
    },
    {
      "cell_type": "markdown",
      "source": [
        "## Python Inheritance  \n",
        "**Inheritance** enables us to define a class that takes all the functionality from a parent class and allows us to add more. In this tutorial, you will learn to use inheritance in Python."
      ],
      "metadata": {
        "id": "qGnOquVPD3o0"
      },
      "id": "qGnOquVPD3o0"
    },
    {
      "cell_type": "markdown",
      "source": [
        "### Python Inheritance Syntax  \n",
        "class BaseClass:  \n",
        "> Body of base class  \n",
        "\n",
        "class DerivedClass(BaseClass):  \n",
        "> Body of derived class\n",
        "\n",
        "\n",
        "\n",
        "  ![](https://files.realpython.com/media/ic-basic-inheritance.f8dc9ffee4d7.jpg)"
      ],
      "metadata": {
        "id": "rJSTMlDIERHj"
      },
      "id": "rJSTMlDIERHj"
    },
    {
      "cell_type": "code",
      "execution_count": null,
      "id": "09198fae",
      "metadata": {
        "id": "09198fae"
      },
      "outputs": [],
      "source": [
        "#Base Payroll System class\n",
        "class PayrollSystem:\n",
        "    def calculate_payroll(self, employees):\n",
        "        print('Calculating Payroll')\n",
        "        print('===================')\n",
        "        for employee in employees:\n",
        "            print(f'Payroll for: {employee.id} - {employee.name}')\n",
        "            print(f'- Check amount: {employee.calculate_payroll()}')\n",
        "            print('')"
      ]
    },
    {
      "cell_type": "code",
      "source": [
        "#Another Employee class\n",
        "class Employee:\n",
        "    def __init__(self, id, name):\n",
        "        self.id = id\n",
        "        self.name = name\n",
        "    def show(self):\n",
        "        print(\"id is\", self.id, \"and name is \", self.name)"
      ],
      "metadata": {
        "id": "A10Eg7vTF0c6"
      },
      "id": "A10Eg7vTF0c6",
      "execution_count": 27,
      "outputs": []
    },
    {
      "cell_type": "code",
      "source": [
        "#Child Salary Employee class\n",
        "class SalaryEmployee(Employee):\n",
        "    def __init__(self, id, name, salary, rate):\n",
        "        super().__init__(id, name)\n",
        "        self.salary = salary\n",
        "        self.rate = rate\n",
        "\n",
        "    def calculate_payroll(self):\n",
        "        salary = self.salary*(1+self.rate)\n",
        "        return salary"
      ],
      "metadata": {
        "id": "FIhFLOvkGFmz"
      },
      "id": "FIhFLOvkGFmz",
      "execution_count": 23,
      "outputs": []
    },
    {
      "cell_type": "code",
      "source": [
        "emp=Employee(100, \"Caleb\")\n",
        "sal = SalaryEmployee(100, \"Caleb\", 1000, 0.1)\n",
        "print(f'id:{sal.id} -Name: {sal.name} Salary is {sal.calculate_payroll()}')"
      ],
      "metadata": {
        "colab": {
          "base_uri": "https://localhost:8080/"
        },
        "id": "YRZokReNHzHE",
        "outputId": "776f7c9d-76f6-4d2e-a3d4-50d734f7ddc4"
      },
      "id": "YRZokReNHzHE",
      "execution_count": 25,
      "outputs": [
        {
          "output_type": "stream",
          "name": "stdout",
          "text": [
            "id:100 -Name: Caleb Salary is 1100.0\n"
          ]
        }
      ]
    },
    {
      "cell_type": "markdown",
      "source": [
        "## Encapsulation in Python"
      ],
      "metadata": {
        "id": "2JCluPg_NGC8"
      },
      "id": "2JCluPg_NGC8"
    },
    {
      "cell_type": "code",
      "source": [
        "#When you create a class, it means you are implementing encapsulation\n",
        "emp = Employee(id=1001, name=\"Caleb\")\n",
        "emp.show()"
      ],
      "metadata": {
        "colab": {
          "base_uri": "https://localhost:8080/"
        },
        "id": "Ko655hkDM8EZ",
        "outputId": "e71908d3-7e6a-4d18-ea2e-3992047b3db4"
      },
      "id": "Ko655hkDM8EZ",
      "execution_count": 28,
      "outputs": [
        {
          "output_type": "stream",
          "name": "stdout",
          "text": [
            "id is 1001 and name is  Caleb\n"
          ]
        }
      ]
    },
    {
      "cell_type": "markdown",
      "source": [
        "## Using Polymorphism in Python"
      ],
      "metadata": {
        "id": "ywsCDRB5M5iT"
      },
      "id": "ywsCDRB5M5iT"
    },
    {
      "cell_type": "code",
      "source": [
        "class Circle:\n",
        "    pi = 3.14\n",
        "\n",
        "    def __init__(self, redius):\n",
        "        self.radius = redius\n",
        "\n",
        "    def calculate_area(self):\n",
        "        print(\"Area of circle :\", self.pi * self.radius * self.radius)\n",
        "\n",
        "class Rectangle:\n",
        "    def __init__(self, length, width):\n",
        "        self.length = length\n",
        "        self.width = width\n",
        "\n",
        "    def calculate_area(self):\n",
        "        print(\"Area of Rectangle :\", self.length * self.width)\n",
        "\n",
        "# function\n",
        "def area(shape):\n",
        "    # call action\n",
        "    shape.calculate_area()\n",
        "\n",
        "# create object\n",
        "cir = Circle(5)\n",
        "rect = Rectangle(10, 5)\n",
        "\n",
        "# call common function with different parameters --> polymorphism \n",
        "area(cir)\n",
        "area(rect)"
      ],
      "metadata": {
        "id": "-7VbrX6rO52F"
      },
      "id": "-7VbrX6rO52F",
      "execution_count": null,
      "outputs": []
    }
  ],
  "metadata": {
    "kernelspec": {
      "display_name": "Python 3",
      "language": "python",
      "name": "python3"
    },
    "language_info": {
      "codemirror_mode": {
        "name": "ipython",
        "version": 3
      },
      "file_extension": ".py",
      "mimetype": "text/x-python",
      "name": "python",
      "nbconvert_exporter": "python",
      "pygments_lexer": "ipython3",
      "version": "3.8.12"
    },
    "colab": {
      "provenance": [],
      "collapsed_sections": [],
      "toc_visible": true
    }
  },
  "nbformat": 4,
  "nbformat_minor": 5
}