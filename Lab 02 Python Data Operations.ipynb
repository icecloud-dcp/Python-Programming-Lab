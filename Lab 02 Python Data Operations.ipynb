{
 "cells": [
  {
   "cell_type": "markdown",
   "id": "7d4c1762",
   "metadata": {},
   "source": [
    "# Lab 02 Python Data Conversions\n",
    "## Data Type Casting  \n",
    "--- \n",
    "| Lab No. :  Lab 02  \n",
    "| Date :      Oct 4, 2021  \n",
    "| Your Full Name:        \n",
    "---  \n",
    "__explicit type conversion__"
   ]
  },
  {
   "cell_type": "code",
   "execution_count": 3,
   "id": "600b49c4",
   "metadata": {},
   "outputs": [
    {
     "name": "stdout",
     "output_type": "stream",
     "text": [
      "Data type of num 1:  <class 'int'>\n",
      "Data type of num 2:  <class 'str'>\n",
      "Result =  294\n"
     ]
    }
   ],
   "source": [
    "num1 = 44\n",
    "num2 = \"250\"\n",
    "print(\"Data type of num 1: \", type(num1))\n",
    "print(\"Data type of num 2: \", type(num2))\n",
    "num3 = num1+int(num2)\n",
    "print(\"Result = \", num3)"
   ]
  },
  {
   "cell_type": "markdown",
   "id": "cc99a0a0",
   "metadata": {},
   "source": [
    "### data type casting using int() function"
   ]
  },
  {
   "cell_type": "code",
   "execution_count": 2,
   "id": "74fa3fa7",
   "metadata": {},
   "outputs": [
    {
     "name": "stdout",
     "output_type": "stream",
     "text": [
      "Data type of num3:  <class 'int'>\n",
      "Addition of num1 and num3:  67\n",
      "Data type of num3 before type casting is  <class 'str'>\n",
      "Data type of num3 after type casting is  <class 'int'>\n"
     ]
    }
   ],
   "source": [
    "num3 = int(num2)\n",
    "print(\"Data type of num3: \", type(num3))\n",
    "add_number = num1+num3\n",
    "print(\"Addition of num1 and num3: \", add_number)\n",
    "print(\"Data type of num3 before type casting is \", type(num2))\n",
    "print(\"Data type of num3 after type casting is \", type(num3))"
   ]
  },
  {
   "cell_type": "markdown",
   "id": "ab0855f7",
   "metadata": {},
   "source": [
    "### Operations on Data  \n",
    "<h4> Arithmetic operations </h4>"
   ]
  },
  {
   "cell_type": "code",
   "execution_count": 4,
   "id": "a29af8b9",
   "metadata": {},
   "outputs": [
    {
     "name": "stdout",
     "output_type": "stream",
     "text": [
      "Please enter the value of first number: 25\n",
      "Please enter the value of second number: 15\n",
      "Sum of two entered numbers is  40.0\n",
      "Subtraction of two entered numbers is  10.0\n",
      "Multiplication of two entered numbers is  375.0\n",
      "Multiplication of two entered numbers is  1.6666666666666667\n",
      "Modulus(Remainder) of two entered numbers is  10.0\n",
      "Exponent of two entered numbers is  9.313225746154785e+20\n"
     ]
    }
   ],
   "source": [
    "num1 = float(input(\"Please enter the value of first number: \"))\n",
    "num2 = float(input(\"Please enter the value of second number: \"))\n",
    "#Add two numbers\n",
    "add_number = num1+num2\n",
    "print(\"Sum of two entered numbers is \", add_number)\n",
    "#Substract two numbers\n",
    "sub_number = num1-num2\n",
    "print(\"Subtraction of two entered numbers is \", sub_number)\n",
    "#Multiply two numbers\n",
    "mult_number = num1*num2\n",
    "print(\"Multiplication of two entered numbers is \", mult_number)\n",
    "#MDivide two numbers\n",
    "if num2 != 0:\n",
    "    mult_number = num1/num2\n",
    "else:\n",
    "    num2 = float(input(\"Please enter the non-zero value of second number: \"))\n",
    "    mult_number = num1/num2\n",
    "print(\"Multiplication of two entered numbers is \", mult_number)\n",
    "#Modulus of num1 and num 2\n",
    "if num2 != 0:\n",
    "    mod_number = num1 % num2\n",
    "else:\n",
    "        num2 = float(input(\"Please enter the non-zero value of second number: \"))\n",
    "        mod_number = num1 % num2\n",
    "print(\"Modulus(Remainder) of two entered numbers is \", mod_number)\n",
    "#Exponent of num1 and num2\n",
    "exp_number = num1**num2\n",
    "print(\"Exponent of two entered numbers is \", exp_number)\n"
   ]
  },
  {
   "cell_type": "markdown",
   "id": "e186bea9",
   "metadata": {},
   "source": [
    "### Comparison Operations  "
   ]
  },
  {
   "cell_type": "code",
   "execution_count": 4,
   "id": "aaaae9d8",
   "metadata": {},
   "outputs": [
    {
     "name": "stdout",
     "output_type": "stream",
     "text": [
      "Is A greater than  B  False\n",
      "Is A less than B  True\n",
      "Is A greater than or equal to B  False\n",
      "Is A less than or equal to B  True\n",
      "Is A  equal to B  False\n",
      "Is A not equal to B  True\n"
     ]
    }
   ],
   "source": [
    "A= 10\n",
    "B=15\n",
    "print(\"Is A greater than  B \", A > B)\n",
    "print(\"Is A less than B \", A < B)\n",
    "print(\"Is A greater than or equal to B \", A >= B)\n",
    "print(\"Is A less than or equal to B \", A <= B)\n",
    "print(\"Is A  equal to B \", A == B)\n",
    "print(\"Is A not equal to B \", A != B)"
   ]
  },
  {
   "cell_type": "markdown",
   "id": "763b0569",
   "metadata": {},
   "source": [
    "### Assignment Operation"
   ]
  },
  {
   "cell_type": "code",
   "execution_count": 6,
   "id": "e8866b29",
   "metadata": {},
   "outputs": [
    {
     "name": "stdout",
     "output_type": "stream",
     "text": [
      "After using -= Operator :  30\n"
     ]
    }
   ],
   "source": [
    "Increament = 7\n",
    "Final = 37\n",
    "#print(\"Before using += Operator : \", Final)\n",
    "#Final +=Increament\n",
    "\n",
    "#print(\"After using += Operator : \", Final)\n",
    "\n",
    "Final -=Increament\n",
    "print(\"After using -= Operator : \", Final)\n",
    "\n",
    "Final *=Increament\n",
    "#print(\"After using *= Operator : \", Final)\n",
    "\n",
    "#Final /=Increament\n",
    "#print(\"After using /= Operator : \", Final)\n",
    "# Floor division\n",
    "#Final //=Increament\n",
    "#print(\"After using //= Operator : \", Final)\n"
   ]
  },
  {
   "cell_type": "markdown",
   "id": "5609d0cd",
   "metadata": {},
   "source": [
    "### Bitwise Operations"
   ]
  },
  {
   "cell_type": "code",
   "execution_count": 6,
   "id": "65e5a721",
   "metadata": {},
   "outputs": [
    {
     "name": "stdout",
     "output_type": "stream",
     "text": [
      "Binary form of a :  0b1010\n",
      "Binary form of b :  0b1010010\n",
      "Bitwise AND Operation:  2\n",
      "Bitwise OR Operation:  90\n",
      "Bitwise XOR Operation:  88\n",
      "Bitwise ~ Operation:  -11\n",
      "Bitwise Shift Left Operation:  20\n",
      "Bitwise Shift Right Operation:  41\n"
     ]
    }
   ],
   "source": [
    "# prefix 0b \n",
    "bin_num1 = 0b111101\n",
    "bin_num2 = 0b111101\n",
    "hex_num1 = 0xAB\n",
    "a = 10 #1010\n",
    "b=82 #\n",
    "print(\"Binary form of a : \", bin(a))\n",
    "print(\"Binary form of b : \", bin(b))\n",
    "print(\"Bitwise AND Operation: \", a & b)\n",
    "print(\"Bitwise OR Operation: \", a | b)\n",
    "print(\"Bitwise XOR Operation: \", a ^ b)\n",
    "print(\"Bitwise ~ Operation: \", ~a )\n",
    "print(\"Bitwise Shift Left Operation: \", a << 1)\n",
    "print(\"Bitwise Shift Right Operation: \", b >> 1)\n"
   ]
  },
  {
   "cell_type": "code",
   "execution_count": null,
   "id": "b2b64b77",
   "metadata": {},
   "outputs": [],
   "source": []
  }
 ],
 "metadata": {
  "kernelspec": {
   "display_name": "Python 3 (ipykernel)",
   "language": "python",
   "name": "python3"
  },
  "language_info": {
   "codemirror_mode": {
    "name": "ipython",
    "version": 3
   },
   "file_extension": ".py",
   "mimetype": "text/x-python",
   "name": "python",
   "nbconvert_exporter": "python",
   "pygments_lexer": "ipython3",
   "version": "3.9.7"
  }
 },
 "nbformat": 4,
 "nbformat_minor": 5
}
