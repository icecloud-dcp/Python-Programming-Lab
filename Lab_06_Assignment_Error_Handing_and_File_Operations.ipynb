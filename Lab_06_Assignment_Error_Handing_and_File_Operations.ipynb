{
  "cells": [
    {
      "cell_type": "markdown",
      "id": "0c349a3b",
      "metadata": {
        "id": "0c349a3b"
      },
      "source": [
        "# Lab 06 Assignment Error Handing and File Operations\n",
        "---  \n",
        "| Lab No. :  \n",
        "| Date :  \n",
        "| Your Full Name:   \n",
        "---\n",
        "\n",
        "<ul>\n",
        "    <li>  Exception Handling</li>  \n",
        "</ul>\n",
        "\n",
        "> Identify `invalid syntax` in Python   <br>\n",
        "> Make sense of `SyntaxError` tracebacks <br>\n",
        "> Resolve invalid syntax or prevent it altogether <br>\n",
        "> IO Error  \n",
        ">> When working with Input and Output Operations in Python, if we encounter an error related to file, the code will throw the IOError. <br>\n",
        "\n",
        "> TypeError  \n",
        ">> This type of error is also generated when we are trying to perform the operation on the object, and it is not supported.\n",
        "      \n",
        "    "
      ]
    },
    {
      "cell_type": "markdown",
      "id": "a2547ab6",
      "metadata": {
        "id": "a2547ab6"
      },
      "source": [
        "## Syntax Error  \n",
        ">__Example for syntax error__"
      ]
    },
    {
      "cell_type": "code",
      "execution_count": 8,
      "id": "8673cf6d",
      "metadata": {
        "colab": {
          "base_uri": "https://localhost:8080/",
          "height": 137
        },
        "id": "8673cf6d",
        "outputId": "9c762ef0-c105-4cb9-a6f2-f3f3df7305ac"
      },
      "outputs": [
        {
          "output_type": "error",
          "ename": "SyntaxError",
          "evalue": "ignored",
          "traceback": [
            "\u001b[0;36m  File \u001b[0;32m\"<ipython-input-8-562b3ba7a302>\"\u001b[0;36m, line \u001b[0;32m2\u001b[0m\n\u001b[0;31m    fro i in range(10):\u001b[0m\n\u001b[0m        ^\u001b[0m\n\u001b[0;31mSyntaxError\u001b[0m\u001b[0;31m:\u001b[0m invalid syntax\n"
          ]
        }
      ],
      "source": [
        "#syntax error example fro -> for\n",
        "fro i in range(10):\n",
        "    print(i)\n"
      ]
    },
    {
      "cell_type": "code",
      "execution_count": 9,
      "id": "9c90166e",
      "metadata": {
        "colab": {
          "base_uri": "https://localhost:8080/"
        },
        "id": "9c90166e",
        "outputId": "f5424081-be98-43c4-d6a0-b4b278b250ce"
      },
      "outputs": [
        {
          "output_type": "stream",
          "name": "stdout",
          "text": [
            "Enter date: 2022,10,4\n",
            "You entered:  (2022, 10, 4)\n"
          ]
        }
      ],
      "source": [
        "try:\n",
        "    date = eval(input(\"Enter date: \"))\n",
        "except syntaxError:\n",
        "    print(\"Invalid date entered\")\n",
        "else:\n",
        "    print(\"You entered: \",date)"
      ]
    },
    {
      "cell_type": "markdown",
      "source": [
        "## Exception's Information\n",
        " we can actually use the sys module to access more of the exception's information with sys.exc_info:"
      ],
      "metadata": {
        "id": "LeddPV9B1Y4w"
      },
      "id": "LeddPV9B1Y4w"
    },
    {
      "cell_type": "code",
      "source": [
        "import sys\n",
        "\n",
        "try:\n",
        "    a+b\n",
        "except:\n",
        "    print(sys.exc_info()[0])\n",
        "    print(sys.exc_info()[1])\n",
        "    print(sys.exc_info()[2].tb_lineno)\n",
        "    print('Error: {}. {}, line: {}'.format(sys.exc_info()[0],\n",
        "                                         sys.exc_info()[1],\n",
        "                                         sys.exc_info()[2].tb_lineno))"
      ],
      "metadata": {
        "colab": {
          "base_uri": "https://localhost:8080/"
        },
        "id": "7RYX4EyZ1o3-",
        "outputId": "67131acd-fe87-4ac2-eb7e-2801a95741bf"
      },
      "id": "7RYX4EyZ1o3-",
      "execution_count": 1,
      "outputs": [
        {
          "output_type": "stream",
          "name": "stdout",
          "text": [
            "<class 'NameError'>\n",
            "name 'a' is not defined\n",
            "4\n",
            "Error: <class 'NameError'>. name 'a' is not defined, line: 4\n"
          ]
        }
      ]
    },
    {
      "cell_type": "markdown",
      "id": "0bc08a6c",
      "metadata": {
        "id": "0bc08a6c"
      },
      "source": [
        "## IO Error\n",
        ">Example for IOError "
      ]
    },
    {
      "cell_type": "code",
      "execution_count": null,
      "id": "9a67c011",
      "metadata": {
        "id": "9a67c011",
        "outputId": "237fbac2-1e9d-4c7b-fe9d-9c65be566f37"
      },
      "outputs": [
        {
          "name": "stdout",
          "output_type": "stream",
          "text": [
            "Enter Filename: myFiles.txt\n",
            "myFiles.txt has  3 lines\n"
          ]
        }
      ],
      "source": [
        "try:\n",
        "    name = input(\"Enter Filename: \")\n",
        "    f= open(name, 'r')\n",
        "except IOError:\n",
        "        print(\"File not found: \", name)     \n",
        "else:\n",
        "    n = len(f.readlines())\n",
        "    print(name, \"has \", n, \"lines\")\n",
        "    f.close()"
      ]
    },
    {
      "cell_type": "markdown",
      "id": "cef41412",
      "metadata": {
        "id": "cef41412"
      },
      "source": [
        "## TypeError\n",
        ">Examples of Python TypeError"
      ]
    },
    {
      "cell_type": "code",
      "execution_count": 16,
      "id": "23c0591a",
      "metadata": {
        "colab": {
          "base_uri": "https://localhost:8080/"
        },
        "id": "23c0591a",
        "outputId": "1e20d032-7012-447f-eb0f-164ff90e8e10"
      },
      "outputs": [
        {
          "output_type": "stream",
          "name": "stdout",
          "text": [
            "M***y*** ***1\n"
          ]
        }
      ],
      "source": [
        "from typing_extensions import Concatenate\n",
        "list1 = 'My 1'#[7,8,9,10] \n",
        "list2 = '***'\n",
        "result = list2.join(list1)\n",
        "#result= list1 +list2\n",
        "print(result)"
      ]
    },
    {
      "cell_type": "code",
      "execution_count": 17,
      "id": "09198fae",
      "metadata": {
        "colab": {
          "base_uri": "https://localhost:8080/",
          "height": 210
        },
        "id": "09198fae",
        "outputId": "abe0f96d-1d5d-49d6-cbbf-ee98cf6bcb91"
      },
      "outputs": [
        {
          "output_type": "error",
          "ename": "TypeError",
          "evalue": "ignored",
          "traceback": [
            "\u001b[0;31m---------------------------------------------------------------------------\u001b[0m",
            "\u001b[0;31mTypeError\u001b[0m                                 Traceback (most recent call last)",
            "\u001b[0;32m<ipython-input-17-aadd2f05b50a>\u001b[0m in \u001b[0;36m<module>\u001b[0;34m\u001b[0m\n\u001b[1;32m      1\u001b[0m \u001b[0mgeek\u001b[0m \u001b[0;34m=\u001b[0m \u001b[0;34m\"Geeks\"\u001b[0m\u001b[0;34m\u001b[0m\u001b[0;34m\u001b[0m\u001b[0m\n\u001b[1;32m      2\u001b[0m \u001b[0mnum\u001b[0m \u001b[0;34m=\u001b[0m \u001b[0;36m4\u001b[0m\u001b[0;34m\u001b[0m\u001b[0;34m\u001b[0m\u001b[0m\n\u001b[0;32m----> 3\u001b[0;31m \u001b[0mprint\u001b[0m\u001b[0;34m(\u001b[0m\u001b[0mgeek\u001b[0m \u001b[0;34m+\u001b[0m \u001b[0mnum\u001b[0m \u001b[0;34m+\u001b[0m \u001b[0mgeek\u001b[0m\u001b[0;34m)\u001b[0m\u001b[0;34m\u001b[0m\u001b[0;34m\u001b[0m\u001b[0m\n\u001b[0m",
            "\u001b[0;31mTypeError\u001b[0m: can only concatenate str (not \"int\") to str"
          ]
        }
      ],
      "source": [
        "geek = \"Geeks\"\n",
        "num = 4\n",
        "print(geek + num + geek)\n"
      ]
    },
    {
      "cell_type": "code",
      "source": [
        "geeky_list = [\"geek\", \"GeeksforGeeks\", \"geeky\", \"geekgod\"]\n",
        "index = \"1\"\n",
        "print(geeky_list[index])\n"
      ],
      "metadata": {
        "id": "93BTA9Og7JKF"
      },
      "id": "93BTA9Og7JKF",
      "execution_count": null,
      "outputs": []
    },
    {
      "cell_type": "code",
      "source": [
        "import sys\n",
        "\n",
        "geek = \"Geeks\"\n",
        "num = 4\n",
        "try:\n",
        "    print(geek + num + geek)\n",
        "except Exception as e:\n",
        "    print(sys.exc_info()[0])\n",
        "    print(sys.exc_info()[1])\n",
        "    print(e)\n",
        "finally:\n",
        "    print(\"check out data type for addition\")\n"
      ],
      "metadata": {
        "colab": {
          "base_uri": "https://localhost:8080/"
        },
        "id": "sR8evBpn45BD",
        "outputId": "7ce36aba-712b-406a-d81a-db498517bb44"
      },
      "id": "sR8evBpn45BD",
      "execution_count": 19,
      "outputs": [
        {
          "output_type": "stream",
          "name": "stdout",
          "text": [
            "<class 'TypeError'>\n",
            "can only concatenate str (not \"int\") to str\n",
            "can only concatenate str (not \"int\") to str\n",
            "check out data type for addition\n"
          ]
        }
      ]
    }
  ],
  "metadata": {
    "kernelspec": {
      "display_name": "Python 3",
      "language": "python",
      "name": "python3"
    },
    "language_info": {
      "codemirror_mode": {
        "name": "ipython",
        "version": 3
      },
      "file_extension": ".py",
      "mimetype": "text/x-python",
      "name": "python",
      "nbconvert_exporter": "python",
      "pygments_lexer": "ipython3",
      "version": "3.8.8"
    },
    "colab": {
      "provenance": [],
      "toc_visible": true
    }
  },
  "nbformat": 4,
  "nbformat_minor": 5
}