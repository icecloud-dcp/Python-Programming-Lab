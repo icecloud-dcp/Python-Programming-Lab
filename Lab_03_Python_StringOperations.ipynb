{
  "cells": [
    {
      "cell_type": "markdown",
      "metadata": {
        "id": "view-in-github",
        "colab_type": "text"
      },
      "source": [
        "<a href=\"https://colab.research.google.com/github/icecloud-dcp/Python-Programming-Lab/blob/main/Lab_03_Python_StringOperations.ipynb\" target=\"_parent\"><img src=\"https://colab.research.google.com/assets/colab-badge.svg\" alt=\"Open In Colab\"/></a>"
      ]
    },
    {
      "cell_type": "markdown",
      "id": "1190f7eb",
      "metadata": {
        "id": "1190f7eb"
      },
      "source": [
        "# Lab 03 String Operations\n",
        "---  \n",
        "| Lab No. :  \n",
        "| Date :  \n",
        "| Your Full Name:   \n",
        "---\n",
        "<ul>\n",
        "    <li>concatenation operator</li>\n",
        "    <li>repetition operator</li>\n",
        "    <li>slice operator</li> \n",
        "    <li>range slice</li> \n",
        "    <li>membership operator</li> \n",
        "    <li>format operator</li>\n",
        "    </ul>\n",
        "    "
      ]
    },
    {
      "cell_type": "code",
      "execution_count": null,
      "id": "6bac3a5c",
      "metadata": {
        "id": "6bac3a5c",
        "outputId": "36484afc-a10e-44a8-e0ae-f0ed01801a9a"
      },
      "outputs": [
        {
          "name": "stdout",
          "output_type": "stream",
          "text": [
            "Concatenation Operation:  Welcome to Keiin International Institute\n",
            "Repetition Operations:  Keiin International Institute Keiin International Institute \n",
            "Repetition Operations:  Keiin International Institute Keiin International Institute\n",
            "Slice Operation:  i\n",
            "Range Operation:  Inte\n",
            "Membership Operation True\n",
            "Membership not in Operations:  True\n",
            "You are 2nd year student of Keiin International Institute\n"
          ]
        }
      ],
      "source": [
        "a = \"Keiin International Institute\"\n",
        "b = \"Welcome to\"\n",
        "\n",
        "print(\"Concatenation Operation: \", b+ ' '+a)\n",
        "print(\"Repetition Operations: \", (a+' ')*2)\n",
        "print(\"Repetition Operations: \", a+' '+a)\n",
        "print(\"Slice Operation: \", a[2])\n",
        "print(\"Range Operation: \", a[6:10])\n",
        "print(\"Membership Operation\", 't' in a)\n",
        "print(\"Membership not in Operations: \", 'p' not in b)\n",
        "print(f\"You are 2nd year student of {a}\")"
      ]
    },
    {
      "cell_type": "markdown",
      "id": "e2bf5fe2",
      "metadata": {
        "id": "e2bf5fe2"
      },
      "source": [
        "## String Format operations"
      ]
    },
    {
      "cell_type": "code",
      "execution_count": 2,
      "id": "07ed5484",
      "metadata": {
        "id": "07ed5484",
        "outputId": "329dfe94-640f-4e3d-847d-077222f2f660",
        "colab": {
          "base_uri": "https://localhost:8080/"
        }
      },
      "outputs": [
        {
          "output_type": "stream",
          "name": "stdout",
          "text": [
            "What is your first name? Caleb\n",
            "My first name is Caleb\n",
            "My first name is Caleb\n",
            "My first name isCaleb\n"
          ]
        }
      ],
      "source": [
        "your_name = input(\"What is your first name? \")\n",
        "print(\"My first name is %s\" %your_name)\n",
        "print(f\"My first name is {your_name}\")\n",
        "print(\"My first name is{}\".format(your_name))"
      ]
    },
    {
      "cell_type": "code",
      "source": [
        "# More formatting\n",
        "print(f\"My firstname is {your_name:>35}\")\n",
        "print(f\"My firstname is {your_name:<35}\")\n",
        "print(f\"My firstname is {your_name:^35}\")"
      ],
      "metadata": {
        "colab": {
          "base_uri": "https://localhost:8080/"
        },
        "id": "jUNTuK0ejLPF",
        "outputId": "e1f286cc-8444-42a8-af16-2ef2c7f70fb6"
      },
      "id": "jUNTuK0ejLPF",
      "execution_count": 7,
      "outputs": [
        {
          "output_type": "stream",
          "name": "stdout",
          "text": [
            "My firstname is                               Caleb\n",
            "My firstname is Caleb                              \n",
            "My firstname is                Caleb               \n"
          ]
        }
      ]
    },
    {
      "cell_type": "markdown",
      "id": "9454ea98",
      "metadata": {
        "id": "9454ea98"
      },
      "source": [
        "## How to print 2 decimal places in Python."
      ]
    },
    {
      "cell_type": "code",
      "execution_count": 13,
      "id": "58592b10",
      "metadata": {
        "colab": {
          "base_uri": "https://localhost:8080/"
        },
        "id": "58592b10",
        "outputId": "784bbff4-3f06-4c6f-83e2-85263dc079f6"
      },
      "outputs": [
        {
          "output_type": "stream",
          "name": "stdout",
          "text": [
            "2.15\n",
            "2.1543\n",
            "        2.154327         \n",
            "2.154327=================\n",
            "=================2.154327\n",
            "********2.154327*********\n"
          ]
        }
      ],
      "source": [
        "float_number = 2.154327\n",
        "format_float = \"{:.2f}\".format(float_number)\n",
        "print(format_float)\n",
        "print(f\"{float_number:.4f}\")\n",
        "print(f\"{float_number:^25}\")\n",
        "print(f\"{float_number:=<25}\")\n",
        "print(f\"{float_number:=>25}\")\n",
        "print(f\"{float_number:*^25}\")"
      ]
    },
    {
      "cell_type": "markdown",
      "source": [
        "## String Methods and Indexing"
      ],
      "metadata": {
        "id": "qSSnTFHqeN0u"
      },
      "id": "qSSnTFHqeN0u"
    },
    {
      "cell_type": "code",
      "source": [
        "# slicing and range slice\n",
        "a = \"Keiin International Institute\"\n",
        "print(a[10:14])"
      ],
      "metadata": {
        "colab": {
          "base_uri": "https://localhost:8080/"
        },
        "id": "ikF1f9OMelCT",
        "outputId": "7e9543cc-43f4-4588-fefe-15dcec1c808f"
      },
      "id": "ikF1f9OMelCT",
      "execution_count": 19,
      "outputs": [
        {
          "output_type": "stream",
          "name": "stdout",
          "text": [
            "rnat\n"
          ]
        }
      ]
    },
    {
      "cell_type": "code",
      "source": [
        "#string method count()\n",
        "b = \"We welcomes you.\"\n",
        "print(b.count('e'))"
      ],
      "metadata": {
        "colab": {
          "base_uri": "https://localhost:8080/"
        },
        "id": "5NWhA5RJeQPx",
        "outputId": "ae31c03b-5d2e-4b6b-fe48-b10817d5968c"
      },
      "id": "5NWhA5RJeQPx",
      "execution_count": null,
      "outputs": [
        {
          "output_type": "stream",
          "name": "stdout",
          "text": [
            "3\n"
          ]
        }
      ]
    },
    {
      "cell_type": "code",
      "execution_count": null,
      "id": "5ea04795",
      "metadata": {
        "colab": {
          "base_uri": "https://localhost:8080/"
        },
        "id": "5ea04795",
        "outputId": "a49aee5b-813a-4d3b-843c-f555cf2a99a7"
      },
      "outputs": [
        {
          "output_type": "stream",
          "name": "stdout",
          "text": [
            "['We', 'welcomes', 'you.']\n",
            "['Hello', ' your', ' name', ' is', ' Manas']\n"
          ]
        }
      ],
      "source": [
        "print(b.split(' '))\n",
        "c=\"Hello, your, name, is, Manas\"\n",
        "print(c.split(','))"
      ]
    },
    {
      "cell_type": "code",
      "source": [
        "str1=\"Learn Python is fun.\"\n",
        "str2=\"Python\"\n",
        "print(str1.index(str2))"
      ],
      "metadata": {
        "colab": {
          "base_uri": "https://localhost:8080/"
        },
        "id": "z0qca7fSlusR",
        "outputId": "971f4c83-a201-47b3-d309-9df07e043d0e"
      },
      "id": "z0qca7fSlusR",
      "execution_count": 14,
      "outputs": [
        {
          "output_type": "stream",
          "name": "stdout",
          "text": [
            "6\n"
          ]
        }
      ]
    },
    {
      "cell_type": "code",
      "source": [
        "print(b.upper())"
      ],
      "metadata": {
        "colab": {
          "base_uri": "https://localhost:8080/"
        },
        "id": "RLfMnvEseZjA",
        "outputId": "ebc307a7-dfe9-4b3b-b098-7b0868a6d182"
      },
      "id": "RLfMnvEseZjA",
      "execution_count": null,
      "outputs": [
        {
          "output_type": "stream",
          "name": "stdout",
          "text": [
            "WE WELCOMES YOU.\n"
          ]
        }
      ]
    },
    {
      "cell_type": "markdown",
      "source": [
        "## Membership Operators \n",
        "in  and not in"
      ],
      "metadata": {
        "id": "_5g9y45dmOIW"
      },
      "id": "_5g9y45dmOIW"
    },
    {
      "cell_type": "code",
      "source": [
        "a = \"Hello IT-2021 group student. Nice to have you.\"\n",
        "print(\"group\" in a)\n",
        "print(\"Keiin\" in a)\n",
        "print(\"Bachelor\" not in a)"
      ],
      "metadata": {
        "colab": {
          "base_uri": "https://localhost:8080/"
        },
        "id": "CqtCkP-zmZeM",
        "outputId": "264cd663-eacd-45d1-c2b4-30a02ea148cd"
      },
      "id": "CqtCkP-zmZeM",
      "execution_count": 16,
      "outputs": [
        {
          "output_type": "stream",
          "name": "stdout",
          "text": [
            "True\n",
            "False\n",
            "True\n"
          ]
        }
      ]
    }
  ],
  "metadata": {
    "kernelspec": {
      "display_name": "Python 3",
      "language": "python",
      "name": "python3"
    },
    "language_info": {
      "codemirror_mode": {
        "name": "ipython",
        "version": 3
      },
      "file_extension": ".py",
      "mimetype": "text/x-python",
      "name": "python",
      "nbconvert_exporter": "python",
      "pygments_lexer": "ipython3",
      "version": "3.8.8"
    },
    "colab": {
      "provenance": [],
      "collapsed_sections": [],
      "toc_visible": true,
      "include_colab_link": true
    }
  },
  "nbformat": 4,
  "nbformat_minor": 5
}