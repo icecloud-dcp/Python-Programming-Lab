{
  "cells": [
    {
      "cell_type": "markdown",
      "id": "5e256258",
      "metadata": {
        "id": "5e256258"
      },
      "source": [
        "# Session 3C Demo File Handling: read and write\n",
        "---  \n",
        "| Lab No. :  \n",
        "| Date :  \n",
        "| Your Full Name:   \n",
        "---\n",
        "\n",
        "<ul>\n",
        "    <li>  File Handling</li>  \n",
        "</ul>\n",
        "\n",
        "> Create a string file   <br>\n",
        "> Read text from a file  \n",
        "      \n",
        "    "
      ]
    },
    {
      "cell_type": "markdown",
      "source": [
        "## Mount your Google drive to Colab"
      ],
      "metadata": {
        "id": "NsrDuUq2Fq30"
      },
      "id": "NsrDuUq2Fq30"
    },
    {
      "cell_type": "code",
      "source": [
        "from google.colab import drive\n",
        "drive.mount('/gdrive')"
      ],
      "metadata": {
        "colab": {
          "base_uri": "https://localhost:8080/"
        },
        "id": "nol-Mt4VGFV_",
        "outputId": "951d90fb-ed64-4e6e-ea31-959b7fcebdf5"
      },
      "id": "nol-Mt4VGFV_",
      "execution_count": null,
      "outputs": [
        {
          "output_type": "stream",
          "name": "stdout",
          "text": [
            "Mounted at /gdrive\n"
          ]
        }
      ]
    },
    {
      "cell_type": "markdown",
      "id": "ea1dd6a2",
      "metadata": {
        "id": "ea1dd6a2"
      },
      "source": [
        "### Create a text file in your Google drive to store characters"
      ]
    },
    {
      "cell_type": "code",
      "source": [
        "with open('/gdrive/My Drive/myFile.txt', 'w', encoding='utf-8') as f:\n",
        "  f.write('Line 1: Hello My name is Ruslan! ')\n",
        "  f.write('Line 2: Hello Google Drive! ')\n",
        "  str = input('Enter an arbitrary text: ')\n",
        "  f.write(str) # write input str into a myFile.txt\n",
        "  f.close() # close the file\n",
        "!cat '/gdrive/My Drive/myFile.txt'"
      ],
      "metadata": {
        "colab": {
          "base_uri": "https://localhost:8080/"
        },
        "id": "fx57JxfAGFWA",
        "outputId": "de092257-020e-40ca-9143-5192f4579450"
      },
      "id": "fx57JxfAGFWA",
      "execution_count": 2,
      "outputs": [
        {
          "output_type": "stream",
          "name": "stdout",
          "text": [
            "Enter an arbitrary text: Line 3: testing my G drive writing.\n",
            "Line 1: Hello My name is Ruslan! Line 2: Hello Google Drive! Line 3: testing my G drive writing."
          ]
        }
      ]
    },
    {
      "cell_type": "markdown",
      "source": [
        "## unmount your Google drive to Colab"
      ],
      "metadata": {
        "id": "d5SSDNAyKgug"
      },
      "id": "d5SSDNAyKgug"
    },
    {
      "cell_type": "code",
      "source": [
        "from google.colab import drive\n",
        "drive.flush_and_unmount()"
      ],
      "metadata": {
        "id": "XNrjE8fdIueC"
      },
      "id": "XNrjE8fdIueC",
      "execution_count": 3,
      "outputs": []
    },
    {
      "cell_type": "markdown",
      "source": [
        "## Create a text file in  Google colab to store characters"
      ],
      "metadata": {
        "id": "WDON4draK8zt"
      },
      "id": "WDON4draK8zt"
    },
    {
      "cell_type": "code",
      "source": [
        "fp = open('myFile.txt', 'w', encoding='utf-8')\n",
        "fp.write('Line 1: Hello My name is Ruslan! \\n')\n",
        "fp.write('Line 2: Hello Google Colab! \\n')\n",
        "str = input('Enter an arbitrary text: ')\n",
        "fp.write(str) # write input str into a myFile.txt\n",
        "fp.close() # close the file"
      ],
      "metadata": {
        "colab": {
          "base_uri": "https://localhost:8080/"
        },
        "id": "YDb3GXZTLC65",
        "outputId": "6fe43034-09e3-4ab8-9690-7f24587f28ed"
      },
      "id": "YDb3GXZTLC65",
      "execution_count": 5,
      "outputs": [
        {
          "name": "stdout",
          "output_type": "stream",
          "text": [
            "Enter an arbitrary text: Line 3: 3-line format\n"
          ]
        }
      ]
    },
    {
      "cell_type": "markdown",
      "id": "404ff890",
      "metadata": {
        "id": "404ff890"
      },
      "source": [
        "### Read characters from a text file\n",
        ">read all characters form a file "
      ]
    },
    {
      "cell_type": "code",
      "execution_count": 6,
      "id": "2703f1cb",
      "metadata": {
        "colab": {
          "base_uri": "https://localhost:8080/"
        },
        "id": "2703f1cb",
        "outputId": "1ac8295a-a6ab-4e5a-cba4-1e9eacaf0fc2"
      },
      "outputs": [
        {
          "output_type": "stream",
          "name": "stdout",
          "text": [
            "Line 1: Hello My name is Ruslan! \n",
            "Line 2: Hello Google Colab! \n",
            "Line 3: 3-line format "
          ]
        }
      ],
      "source": [
        "fp = open('myFile.txt', 'r', encoding='utf-8')\n",
        "str = fp.read() # read in all characters\n",
        "print(str, end=' ')\n",
        "fp.close()"
      ]
    },
    {
      "cell_type": "markdown",
      "id": "dfc84d5b",
      "metadata": {
        "id": "dfc84d5b"
      },
      "source": [
        "### Another variation for file openning\n",
        ">Python's \"with open() as\" Pattern"
      ]
    },
    {
      "cell_type": "code",
      "execution_count": 7,
      "id": "dcc82811",
      "metadata": {
        "colab": {
          "base_uri": "https://localhost:8080/"
        },
        "id": "dcc82811",
        "outputId": "5edce660-8f84-4366-e5fb-1e1f06d0505a"
      },
      "outputs": [
        {
          "output_type": "stream",
          "name": "stdout",
          "text": [
            " \n",
            "    Welcome students\n",
            "    who learn Python Programming.\n",
            "    More lines go here.\n",
            "    \n",
            "\n",
            "Welcome students\n",
            "who learn Python Programming.\n",
            "More lines go here.\n",
            "\n"
          ]
        }
      ],
      "source": [
        "with open(\"myFile.txt\",'w') as fp: # Use file to refer to the file object\n",
        "    str=''' \n",
        "    Welcome students\n",
        "    who learn Python Programming.\n",
        "    More lines go here.\n",
        "    ''' \n",
        "    #\"Welcome students \"+\"who learn Python Programming.\"\n",
        "    fp.write(str)\n",
        "    fp.close()\n",
        "\n",
        "    \n",
        "with open(\"myFile.txt\") as fp:\n",
        "    str = fp.read()\n",
        "    print(str)\n",
        "    fp.close()\n",
        "\n",
        "with open(\"myFile.txt\") as fp:\n",
        "    strs = fp.readlines()\n",
        "    for str in strs:\n",
        "        if str != '':\n",
        "            print(str.strip())\n",
        "    fp.close()\n"
      ]
    },
    {
      "cell_type": "code",
      "execution_count": null,
      "id": "d933d730",
      "metadata": {
        "id": "d933d730"
      },
      "outputs": [],
      "source": []
    }
  ],
  "metadata": {
    "interpreter": {
      "hash": "0b46fdc5a67dab1b8bafb873b27f0f7a50e09f9357a47537d1acb431fb2e0ace"
    },
    "kernelspec": {
      "display_name": "Python 3",
      "language": "python",
      "name": "python3"
    },
    "language_info": {
      "codemirror_mode": {
        "name": "ipython",
        "version": 3
      },
      "file_extension": ".py",
      "mimetype": "text/x-python",
      "name": "python",
      "nbconvert_exporter": "python",
      "pygments_lexer": "ipython3",
      "version": "3.8.8"
    },
    "colab": {
      "provenance": []
    }
  },
  "nbformat": 4,
  "nbformat_minor": 5
}