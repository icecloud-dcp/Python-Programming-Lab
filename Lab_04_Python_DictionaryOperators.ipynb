{
  "cells": [
    {
      "cell_type": "markdown",
      "id": "77393796",
      "metadata": {
        "id": "77393796"
      },
      "source": [
        "  \n",
        "\n",
        "## Lab 04 Dictionary Operations  \n",
        "---  \n",
        "| Lab No. :  \n",
        "| Date :  \n",
        "| Your Full Name:   \n",
        "---\n",
        "<ul>\n",
        "    <li>Creating a dictionary</li> \n",
        "        <li>accessing the elementsL</li>\n",
        "            <li>adding a new item </li>\n",
        "            <li>removing an item, and creating a copy of existing dictionary </li>  \n",
        "            <li> Shallow copy and Deep copy </li>\n",
        "             </ul>"
      ]
    },
    {
      "cell_type": "markdown",
      "source": [
        "## Creation and Accessing"
      ],
      "metadata": {
        "id": "QrC_yFcNGv9u"
      },
      "id": "QrC_yFcNGv9u"
    },
    {
      "cell_type": "code",
      "execution_count": 4,
      "id": "131095dd",
      "metadata": {
        "colab": {
          "base_uri": "https://localhost:8080/"
        },
        "id": "131095dd",
        "outputId": "481fa0e9-5a23-4e58-dcfb-a2e649e0827f"
      },
      "outputs": [
        {
          "output_type": "stream",
          "name": "stdout",
          "text": [
            "2021\n"
          ]
        }
      ],
      "source": [
        "# key:value pairs\n",
        "dict1 = {\"University\": \"Keiin International Insitute\", \"Year\": 2021, \"Semester\": \"Fall\", \"Subject\":\"Programming 1\"}\n",
        "print(dict1[\"Year\"])"
      ]
    },
    {
      "cell_type": "code",
      "execution_count": 5,
      "id": "828487cc",
      "metadata": {
        "colab": {
          "base_uri": "https://localhost:8080/"
        },
        "id": "828487cc",
        "outputId": "a7052765-d222-48ad-a4c7-2f47d686ee3b"
      },
      "outputs": [
        {
          "output_type": "stream",
          "name": "stdout",
          "text": [
            "keys are   dict_keys(['University', 'Year', 'Semester', 'Subject'])\n",
            "values are   dict_values(['Keiin International Insitute', 2021, 'Fall', 'Programming 1'])\n",
            "Something in Dict1->  2021\n"
          ]
        }
      ],
      "source": [
        "print(\"keys are  \", dict.keys(dict1))\n",
        "print(\"values are  \", dict.values(dict1))\n",
        "print(\"Something in Dict1-> \", dict1.pop(\"Year\"))"
      ]
    },
    {
      "cell_type": "markdown",
      "id": "a8ba782f",
      "metadata": {
        "id": "a8ba782f"
      },
      "source": [
        "### Adding a new item"
      ]
    },
    {
      "cell_type": "code",
      "execution_count": 10,
      "id": "6fdbdd58",
      "metadata": {
        "colab": {
          "base_uri": "https://localhost:8080/"
        },
        "id": "6fdbdd58",
        "outputId": "d0863bad-6581-4676-e3c6-003413b30b83"
      },
      "outputs": [
        {
          "output_type": "stream",
          "name": "stdout",
          "text": [
            "{'University': 'Keiin International Insitute', 'Semester': 'Fall', 'Subject': 'Programming 1', 'City': 'Ivanovka-stanza'}\n",
            "{'City': 'Ivanovka-stanza',\n",
            " 'Semester': 'Fall',\n",
            " 'Subject': 'Programming 1',\n",
            " 'University': 'Keiin International Insitute'}\n"
          ]
        }
      ],
      "source": [
        "dict1[\"City\"]=\"Ivanovka-stanza\"\n",
        "print(dict1)\n",
        "import pprint as pp\n",
        "pp.pprint(dict1)"
      ]
    },
    {
      "cell_type": "markdown",
      "id": "f02c6089",
      "metadata": {
        "id": "f02c6089"
      },
      "source": [
        "### dictionary copy()  \n",
        "The copy() method returns a copy(shallow copy) of the dictionary"
      ]
    },
    {
      "cell_type": "code",
      "execution_count": 12,
      "id": "4474bb6e",
      "metadata": {
        "colab": {
          "base_uri": "https://localhost:8080/"
        },
        "id": "4474bb6e",
        "outputId": "286a0bf6-538a-4bd0-eefd-8244f00151a9"
      },
      "outputs": [
        {
          "output_type": "stream",
          "name": "stdout",
          "text": [
            "Original dict1:  {'University': 'Keiin International Insitute', 'Semester': 'Fall', 'Subject': 'Programming 1', 'City': 'Ivanovka-stanza'}\n",
            "Copied dict1:  {'University': 'Keiin International Insitute', 'Semester': 'Fall', 'Subject': 'Programming 1', 'City': 'Ivanovka-stanza'}\n"
          ]
        }
      ],
      "source": [
        "copy_dict1 = dict1.copy()\n",
        "print(\"Original dict1: \", dict1)\n",
        "print(\"Copied dict1: \", copy_dict1)"
      ]
    },
    {
      "cell_type": "markdown",
      "id": "6eb9b788",
      "metadata": {
        "id": "6eb9b788"
      },
      "source": [
        "### remove a dictionay item  \n",
        "the del keyword let you remove keys from a dictionary"
      ]
    },
    {
      "cell_type": "code",
      "execution_count": 13,
      "id": "52f7b6d4",
      "metadata": {
        "colab": {
          "base_uri": "https://localhost:8080/"
        },
        "id": "52f7b6d4",
        "outputId": "8320520e-7bc7-4131-a8fd-1915faedee41"
      },
      "outputs": [
        {
          "output_type": "stream",
          "name": "stdout",
          "text": [
            "Before   {'University': 'Keiin International Insitute', 'Semester': 'Fall', 'Subject': 'Programming 1', 'City': 'Ivanovka-stanza'}\n",
            "After  {'University': 'Keiin International Insitute', 'Semester': 'Fall', 'Subject': 'Programming 1'}\n"
          ]
        }
      ],
      "source": [
        "print(\"Before  \",dict1)\n",
        "del dict1[\"City\"]\n",
        "print(\"After \", dict1)"
      ]
    },
    {
      "cell_type": "code",
      "execution_count": null,
      "id": "6b9e95df",
      "metadata": {
        "id": "6b9e95df",
        "outputId": "13f671f0-5798-43a7-96a5-1fc1b9a8c174"
      },
      "outputs": [
        {
          "ename": "NameError",
          "evalue": "name 'dict1' is not defined",
          "output_type": "error",
          "traceback": [
            "\u001b[1;31m---------------------------------------------------------------------------\u001b[0m",
            "\u001b[1;31mNameError\u001b[0m                                 Traceback (most recent call last)",
            "\u001b[1;32m<ipython-input-4-6b44fe065d90>\u001b[0m in \u001b[0;36m<module>\u001b[1;34m\u001b[0m\n\u001b[0;32m      1\u001b[0m \u001b[1;32mdel\u001b[0m \u001b[0mdict1\u001b[0m\u001b[1;33m\u001b[0m\u001b[1;33m\u001b[0m\u001b[0m\n\u001b[1;32m----> 2\u001b[1;33m \u001b[0mprint\u001b[0m\u001b[1;33m(\u001b[0m\u001b[1;34m\"dict1 \"\u001b[0m\u001b[1;33m,\u001b[0m\u001b[0mdict1\u001b[0m\u001b[1;33m)\u001b[0m\u001b[1;33m\u001b[0m\u001b[1;33m\u001b[0m\u001b[0m\n\u001b[0m",
            "\u001b[1;31mNameError\u001b[0m: name 'dict1' is not defined"
          ]
        }
      ],
      "source": [
        "del dict1\n",
        "print(\"dict1 \",dict1)"
      ]
    },
    {
      "cell_type": "markdown",
      "id": "e82f3273",
      "metadata": {
        "id": "e82f3273"
      },
      "source": [
        "### Using = Operator to copy dictionary\n",
        "It only creates a new variable that shares the reference of the original object."
      ]
    },
    {
      "cell_type": "code",
      "execution_count": null,
      "id": "5af88489",
      "metadata": {
        "id": "5af88489",
        "outputId": "f295b5b1-99ba-48d9-9c9a-7e9c9caa944b"
      },
      "outputs": [
        {
          "name": "stdout",
          "output_type": "stream",
          "text": [
            "new dict :  {'University': 'Keiin International Insitute', 'Year': 2020, 'Semester': 'Fall', 'Subject': 'Programming 1'}\n"
          ]
        }
      ],
      "source": [
        "dict1 = {\"University\": \"Keiin International Insitute\", \"Year\": 2020, \"Semester\": \"Fall\", \"Subject\":\"Programming 1\"}\n",
        "new_dict1 = dict1\n",
        "print(\"new dict : \", new_dict1)"
      ]
    },
    {
      "cell_type": "markdown",
      "id": "312cb4de",
      "metadata": {
        "id": "312cb4de"
      },
      "source": [
        "### what is the difference between copy() method and = operatior?\n",
        "object,copy() --> shallow copy\n",
        "A shallow copy creates a new object which stores the reference of the original elements."
      ]
    },
    {
      "cell_type": "code",
      "execution_count": 15,
      "id": "fb9e0c1c",
      "metadata": {
        "colab": {
          "base_uri": "https://localhost:8080/"
        },
        "id": "fb9e0c1c",
        "outputId": "7efc6f55-b799-41ef-82da-5d980f4bfe0b"
      },
      "outputs": [
        {
          "output_type": "stream",
          "name": "stdout",
          "text": [
            "original:  {1: 'one', 2: 'two'}\n",
            "new:  {1: 'new one', 2: 'two'}\n",
            "new:  {}\n",
            "original:  {1: 'one', 2: 'two'}\n"
          ]
        }
      ],
      "source": [
        "original = {1:'one', 2:'two'}\n",
        "new = original.copy()\n",
        "print('original: ', original)\n",
        "new[1]=\"new one\"\n",
        "print('new: ', new)\n",
        "# removing all elements from the list\n",
        "new.clear()\n",
        "\n",
        "print('new: ', new)\n",
        "print('original: ', original)"
      ]
    },
    {
      "cell_type": "code",
      "execution_count": null,
      "id": "56138e2a",
      "metadata": {
        "id": "56138e2a",
        "outputId": "83be2849-d313-4216-fe34-2daa0c73a29c"
      },
      "outputs": [
        {
          "name": "stdout",
          "output_type": "stream",
          "text": [
            "new:  {}\n",
            "original:  {}\n"
          ]
        }
      ],
      "source": [
        "original = {1:'one', 2:'two'}\n",
        "new_dict = original\n",
        "print(new_dict)\n",
        "\n",
        "# removing all elements from the list\n",
        "new_dict.clear()\n",
        "\n",
        "print('new_dict: ', new_dict)\n",
        "print('original: ', original)"
      ]
    },
    {
      "cell_type": "markdown",
      "source": [
        "## Deep copy\n",
        "A deep copy creates a new object and recursively adds the copies of nested objects present in the original elements."
      ],
      "metadata": {
        "id": "yIAyO2QfKQD9"
      },
      "id": "yIAyO2QfKQD9"
    },
    {
      "cell_type": "code",
      "execution_count": 16,
      "id": "f799e37d",
      "metadata": {
        "colab": {
          "base_uri": "https://localhost:8080/"
        },
        "id": "f799e37d",
        "outputId": "e6c5a776-36ff-4428-a65d-f315964f4407"
      },
      "outputs": [
        {
          "output_type": "stream",
          "name": "stdout",
          "text": [
            "Old list: [[1, 1, 1], [2, 2, 2], [3, 3, 3]]\n",
            "New list: [[1, 1, 1], [2, 2, 2], [3, 3, 3]]\n"
          ]
        }
      ],
      "source": [
        "import copy\n",
        "\n",
        "old_list = [[1, 1, 1], [2, 2, 2], [3, 3, 3]]\n",
        "new_list = copy.deepcopy(old_list)\n",
        "\n",
        "print(\"Old list:\", old_list)\n",
        "print(\"New list:\", new_list)"
      ]
    },
    {
      "cell_type": "code",
      "source": [
        "import copy\n",
        "\n",
        "old_list = [[1, 1, 1], [2, 2, 2], [3, 3, 3]]\n",
        "new_list = copy.deepcopy(old_list)\n",
        "\n",
        "old_list[1][0] = 'BB'\n",
        "\n",
        "print(\"Old list:\", old_list)\n",
        "print(\"New list:\", new_list)"
      ],
      "metadata": {
        "colab": {
          "base_uri": "https://localhost:8080/"
        },
        "id": "F5lt3-h1KjPt",
        "outputId": "815d2c53-4c31-420c-a814-fc5b143fd796"
      },
      "id": "F5lt3-h1KjPt",
      "execution_count": 17,
      "outputs": [
        {
          "output_type": "stream",
          "name": "stdout",
          "text": [
            "Old list: [[1, 1, 1], ['BB', 2, 2], [3, 3, 3]]\n",
            "New list: [[1, 1, 1], [2, 2, 2], [3, 3, 3]]\n"
          ]
        }
      ]
    }
  ],
  "metadata": {
    "kernelspec": {
      "display_name": "Python 3",
      "language": "python",
      "name": "python3"
    },
    "language_info": {
      "codemirror_mode": {
        "name": "ipython",
        "version": 3
      },
      "file_extension": ".py",
      "mimetype": "text/x-python",
      "name": "python",
      "nbconvert_exporter": "python",
      "pygments_lexer": "ipython3",
      "version": "3.8.8"
    },
    "colab": {
      "provenance": [],
      "toc_visible": true
    }
  },
  "nbformat": 4,
  "nbformat_minor": 5
}