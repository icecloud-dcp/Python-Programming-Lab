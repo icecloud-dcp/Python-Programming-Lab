{
  "cells": [
    {
      "cell_type": "markdown",
      "id": "77393796",
      "metadata": {
        "id": "77393796"
      },
      "source": [
        "  \n",
        "\n",
        "# Lab 05 Assignment – For and While Loops \n",
        "---  \n",
        "| Lab No. :  \n",
        "| Date :  \n",
        "<p> | Your Full Name:   \n",
        "---\n",
        "<ul>\n",
        "    <li>Looping </li> \n",
        "        <li>For Loop: the for loop is used for iteratingover a sequence</li>\n",
        "            <li>While Loop: the while loop is used to execute a group of staements repeatedly</li>\n",
        "    <li>Lambda expression: anoymous function</li>\n",
        "           </ul>"
      ]
    },
    {
      "cell_type": "code",
      "execution_count": 2,
      "id": "131095dd",
      "metadata": {
        "id": "131095dd"
      },
      "outputs": [],
      "source": [
        "dict1 = {\"University\": \"Keiin International Insitute\", \"Year\": 2020, \"Semester\": \"Fall\", \"Subject\":\"Programming 1\"}\n",
        "list1 = [25, 7, 8, 56, 45, 3, 53, 67, 8, 91]\n",
        "tuple1=('a','b','3','4.5')\n",
        "set1 = {1,2,3,(1,2),(3,4)}"
      ]
    },
    {
      "cell_type": "markdown",
      "id": "2b3053de",
      "metadata": {
        "id": "2b3053de"
      },
      "source": [
        "## For loops"
      ]
    },
    {
      "cell_type": "code",
      "execution_count": null,
      "id": "270abadd",
      "metadata": {
        "id": "270abadd",
        "outputId": "fc93a265-1cc2-46a6-c4a5-e7c64ab045ac"
      },
      "outputs": [
        {
          "name": "stdout",
          "output_type": "stream",
          "text": [
            "Total sum is  363\n",
            "key: University \t\t value: Keiin International Insitute\n",
            "key: Year \t\t value: 2020\n",
            "key: Semester \t\t value: Fall\n",
            "key: Subject \t\t value: Programming 1\n",
            "String elements is selected\n",
            "String elements is selected\n",
            "Number elements is selected\n",
            "Not a number nor a string\n"
          ]
        }
      ],
      "source": [
        "sum=0\n",
        "for value in list1:\n",
        "    sum += value\n",
        "print(\"Total sum is \", sum)\n",
        "\n",
        "for key, value in dict1.items():\n",
        "    print(f\"key: {key} \\t\\t value: {value}\")\n",
        "\n",
        "for val in tuple1:\n",
        "    \n",
        "    if val.isnumeric():\n",
        "        print(\"Number elements is selected\")\n",
        "    elif val.isalpha():\n",
        "        print(\"String elements is selected\")\n",
        "    else:\n",
        "        print(\"Not a number nor a string\")\n",
        "    "
      ]
    },
    {
      "cell_type": "markdown",
      "id": "f02c6089",
      "metadata": {
        "id": "f02c6089"
      },
      "source": [
        "## While Loop\n"
      ]
    },
    {
      "cell_type": "code",
      "execution_count": null,
      "id": "4474bb6e",
      "metadata": {
        "id": "4474bb6e",
        "outputId": "3968dddb-eefc-4c6f-a5c7-74ce79092d62"
      },
      "outputs": [
        {
          "name": "stdout",
          "output_type": "stream",
          "text": [
            "i =1 i =2 i =3 i =4 i =5 "
          ]
        }
      ],
      "source": [
        "i = 1\n",
        "while i < 10:\n",
        "    print(f\"i ={i}\", end=\" \")\n",
        "    if i == 5:\n",
        "        break\n",
        "    i +=1"
      ]
    },
    {
      "cell_type": "markdown",
      "id": "2a5cf40c",
      "metadata": {
        "id": "2a5cf40c"
      },
      "source": [
        "## Lambda Expression\n",
        "syntax: lambda argument(s): expression  \n",
        "conditional Lambda expression \n",
        "<p> lambda args : statement1   if condition  ( statement2   if condition else statement3)"
      ]
    },
    {
      "cell_type": "code",
      "execution_count": null,
      "id": "9d8d8667",
      "metadata": {
        "id": "9d8d8667",
        "outputId": "ec51e52e-bc08-4beb-fe54-7ff96339f747"
      },
      "outputs": [
        {
          "name": "stdout",
          "output_type": "stream",
          "text": [
            "[1.5, 2.0, 2.5, 3.0, 3.5]\n"
          ]
        }
      ],
      "source": [
        "list_x=[2,3,4,5,6]\n",
        "list_y=[]\n",
        "for i in list_x:\n",
        "    squared = lambda i: (i+1)/2\n",
        "    list_y.append(squared(i))\n",
        "print(list_y)\n",
        "(lambda i: i**2)(3)"
      ]
    },
    {
      "cell_type": "code",
      "execution_count": 1,
      "id": "f8b78c6d",
      "metadata": {
        "id": "f8b78c6d",
        "outputId": "b96e93f7-c046-4931-8e4c-e8a2643e52f8",
        "colab": {
          "base_uri": "https://localhost:8080/"
        }
      },
      "outputs": [
        {
          "output_type": "stream",
          "name": "stdout",
          "text": [
            "12 is greater than 11\n",
            "12 is equal to 12\n",
            "12 is smaller than 13\n"
          ]
        }
      ],
      "source": [
        "# Use if-else in Lambda Functions\n",
        "# check if two numbers is equal or greater or lesser\n",
        "result = lambda x,y : f\"{x} is smaller than {y}\" \\\n",
        "if x < y else (f\"{x} is greater than {y}\" if x > y \\\n",
        "\t\t\telse f\"{x} is equal to {y}\")\n",
        "\n",
        "# print for numbers\n",
        "print(result(12, 11))\n",
        "print(result(12, 12))\n",
        "print(result(12, 13))\n"
      ]
    },
    {
      "cell_type": "markdown",
      "source": [
        "The map() function applies a given function to each item of an iterable (list, tuple etc.) and returns an iterator."
      ],
      "metadata": {
        "id": "gzQETixT1RnE"
      },
      "id": "gzQETixT1RnE"
    },
    {
      "cell_type": "code",
      "execution_count": null,
      "id": "ed077b5d",
      "metadata": {
        "colab": {
          "base_uri": "https://localhost:8080/"
        },
        "id": "ed077b5d",
        "outputId": "22a8742b-cd17-4ae1-b094-e05e06ca21aa"
      },
      "outputs": [
        {
          "output_type": "stream",
          "name": "stdout",
          "text": [
            "[1, 4, 9, 16, 25]\n"
          ]
        }
      ],
      "source": [
        "my_lambda=(lambda i: i*i)\n",
        "my_lambda(2)\n",
        "n=[1,2,3,4,5]\n",
        "print(list(map(my_lambda, n)))"
      ]
    },
    {
      "cell_type": "markdown",
      "source": [
        "The filter() function extracts elements from an iterable (list, tuple etc.) for which a function returns True."
      ],
      "metadata": {
        "id": "4iWIpK271H-u"
      },
      "id": "4iWIpK271H-u"
    },
    {
      "cell_type": "code",
      "source": [
        "z= range(10)\n",
        "print(list(filter((lambda z: z%2 == 0), z)))"
      ],
      "metadata": {
        "colab": {
          "base_uri": "https://localhost:8080/"
        },
        "id": "uXLO4b9Q0JJz",
        "outputId": "cc649303-f5e2-4212-f47c-c813a1024939"
      },
      "id": "uXLO4b9Q0JJz",
      "execution_count": null,
      "outputs": [
        {
          "output_type": "stream",
          "name": "stdout",
          "text": [
            "[0, 2, 4, 6, 8]\n"
          ]
        }
      ]
    }
  ],
  "metadata": {
    "kernelspec": {
      "display_name": "Python 3",
      "language": "python",
      "name": "python3"
    },
    "language_info": {
      "codemirror_mode": {
        "name": "ipython",
        "version": 3
      },
      "file_extension": ".py",
      "mimetype": "text/x-python",
      "name": "python",
      "nbconvert_exporter": "python",
      "pygments_lexer": "ipython3",
      "version": "3.8.12"
    },
    "colab": {
      "provenance": [],
      "toc_visible": true
    }
  },
  "nbformat": 4,
  "nbformat_minor": 5
}